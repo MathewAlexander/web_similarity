{
 "cells": [
  {
   "cell_type": "code",
   "execution_count": null,
   "metadata": {
    "colab": {
     "base_uri": "https://localhost:8080/"
    },
    "id": "ipAnndYvsciw",
    "outputId": "636dd73f-dc4c-42b0-b09e-575a1fd82e66"
   },
   "outputs": [
    {
     "name": "stdout",
     "output_type": "stream",
     "text": [
      "Cloning into 'web_similarity'...\n",
      "remote: Enumerating objects: 36, done.\u001b[K\n",
      "remote: Counting objects: 100% (36/36), done.\u001b[K\n",
      "remote: Compressing objects: 100% (30/30), done.\u001b[K\n",
      "remote: Total 36 (delta 13), reused 19 (delta 4), pack-reused 0\u001b[K\n",
      "Unpacking objects: 100% (36/36), done.\n"
     ]
    }
   ],
   "source": [
    "!git clone https://github.com/MathewAlexander/web_similarity.git"
   ]
  },
  {
   "cell_type": "code",
   "execution_count": null,
   "metadata": {
    "colab": {
     "base_uri": "https://localhost:8080/"
    },
    "id": "ijvDSzgdshKG",
    "outputId": "29754ff0-7216-4c9c-854e-8dc2a01994e9"
   },
   "outputs": [
    {
     "name": "stdout",
     "output_type": "stream",
     "text": [
      "/content/web_similarity\n"
     ]
    }
   ],
   "source": [
    "cd web_similarity/"
   ]
  },
  {
   "cell_type": "markdown",
   "metadata": {
    "id": "_OdG4E77NY-8"
   },
   "source": []
  },
  {
   "cell_type": "code",
   "execution_count": null,
   "metadata": {
    "colab": {
     "base_uri": "https://localhost:8080/"
    },
    "id": "-i2qU9lYsn1-",
    "outputId": "f917cd72-92d0-4356-f187-f63622fe029f"
   },
   "outputs": [
    {
     "name": "stdout",
     "output_type": "stream",
     "text": [
      "\u001b[K     |████████████████████████████████| 71kB 2.0MB/s \n",
      "\u001b[K     |████████████████████████████████| 1.1MB 7.9MB/s \n",
      "\u001b[K     |████████████████████████████████| 1.1MB 18.0MB/s \n",
      "\u001b[K     |████████████████████████████████| 3.0MB 29.7MB/s \n",
      "\u001b[K     |████████████████████████████████| 890kB 48.9MB/s \n",
      "\u001b[?25h  Building wheel for sentence-transformers (setup.py) ... \u001b[?25l\u001b[?25hdone\n",
      "  Building wheel for sacremoses (setup.py) ... \u001b[?25l\u001b[?25hdone\n"
     ]
    }
   ],
   "source": [
    "!pip install --quiet -r requirements.txt"
   ]
  },
  {
   "cell_type": "code",
   "execution_count": null,
   "metadata": {
    "colab": {
     "base_uri": "https://localhost:8080/"
    },
    "id": "Mjhk12olsrmO",
    "outputId": "97a9e04e-a626-414c-d865-d8adc5098611"
   },
   "outputs": [
    {
     "name": "stdout",
     "output_type": "stream",
     "text": [
      "2020-11-08 18:52:19.081444: I tensorflow/stream_executor/platform/default/dso_loader.cc:48] Successfully opened dynamic library libcudart.so.10.1\n",
      "Paste the first url...https://in.reuters.com/article/usa-election-markets/investors-celebrate-biden-winning-u-s-presidency-idINKBN27N0Q0\n",
      "/usr/local/lib/python3.6/dist-packages/urllib3/connectionpool.py:847: InsecureRequestWarning: Unverified HTTPS request is being made. Adding certificate verification is strongly advised. See: https://urllib3.readthedocs.io/en/latest/advanced-usage.html#ssl-warnings\n",
      "  InsecureRequestWarning)\n",
      "\n",
      "\n",
      "\n",
      "\t\t###### Printing the Web content ######\n",
      "\n",
      "Investors celebrate Biden winning U.S. presidency | ReutersNEW YORK (Reuters) - Investors and financial executives took a big sigh of relief on Saturday after major networks declared Democrat Joe Biden winner of the U.S. presidential election, offering some certainty after days of conflicting reports about who might run the White House next term.Although current President Donald Trump said he would fight the results in court, Wall Streeters who offered comments felt there was little doubt Biden would ultimately succeed. Election predictors including the Associated Press, NBC, Fox News and Edison Research, upon which Reuters relies, called the presidency for Biden.“Biden is good news for the markets,” Christopher Stanton, chief investment officer at Sunrise Capital Partners, said on Saturday. “We’re all so tired of the whipsaw that came with the Trump tweets.”Major U.S. stock indexes registered their biggest weekly gains since April this week, as investors bet Biden would win and Republicans would hold onto the Senate. That scenario would create a steadier hand in the Oval Office and a Congress that would check left-leaning impulses on taxes or regulations that pinch companies, investors said.However, there are lingering risks to asset prices in the days and weeks ahead.Republicans have already filed several lawsuits over ballot counting and Trump said his campaign will file more. The litigation could drag out election proceedings.Investor focus also now turns to the Senate, which remains undecided ahead of two runoff elections in Georgia on Jan. 5. The significance of those races, which could potentially end up with the Democrats controlling all three of the White House, Senate and House of Representatives, means January is “the new November” in terms of election volatility risk, Michael Purves, founder and CEO of Tallbacken Capital, said in a note to clients. Purves said that was evident when looking at contracts for the stockmarket’s fear gauge, the VIX, stretching out into the months ahead.Beyond those battles, investors have been worried about the people Biden might appoint to his Cabinet. Some of those officials would be negotiating with Congress about a relief package and have extensive powers to craft Wall Street rules.Current U.S. Federal Reserve governor and former McKinsey consultant Lael Brainard’s name has been floated as a potential Treasury Secretary, while Biden has already tapped former derivatives market regulator and Goldman Sachs Group Inc banker Gary Gensler for advice on financial regulation.For the moment, investors and prominent Wall Street figures said they were happy with the election finally being called after what seemed like unending tension as ballots were counted through the week.“Now is a time for unity,” JPMorgan Chase & Co Chief Executive Jamie Dimon said in a statement. “We must respect the results of the U.S. presidential election and, as we have with every election, honor the decision of the voters and support a peaceful transition of power.”Leon Cooperman, a billionaire former hedge fund manager who had previously criticized Democrats said he was pleased with the results.“It’s a signal to the world that America has not changed its values,” said Cooperman, of Omega Family Office. “That’s a good thing in my view.”Robert Wolf, a major Democratic donor and former UBS Group AG executive who now runs 32 Advisors, was enthusiastic: “I am ecstatic, relieved and deeply hopeful for the future of this country,” he said in a text message.Billionaire investor Bill Ackman wrote on Twitter: “There comes a time in the battle when one should fold the tent,” and urged: “Concede graciously and call for unity.”The financial industry was not reacting in a bubble: major cities from New York to San Francisco erupted in celebration on Saturday. Though Trump undoubtedly has significant support throughout the country, including on Wall Street, 2020 has been a difficult year for the United States.The coronavirus pandemic has taken a huge toll on the country, killing some 236,250 people so far, while social unrest over the police killing of George Floyd, a Black man, has only hardened divisions that already existed.Many voters were hoping for a decisive election that would offer some calm, whichever candidate they cast ballots for.Mohamed El-Erian, Allianz Group’s chief economic adviser, said he hoped a Biden administration could work with Congress to get a handle on the pandemic and pass an economic stimulus package for struggling Americans.“The country needs to come together to deal better with a surge in Covid infections that risks the loss of more lives, greater disruptions to livelihoods, and long-term economic, institutional and social scarring,” he said.All quotes delayed a minimum of 15 minutes. See here for a complete list of exchanges and delays.\n",
      "\t\t######Printing the noise filtered out ######\n",
      "\n",
      "Discover Thomson ReutersBy Lewis Krauskopf, Koh Gui Qing, Lawrence Delevingne5 Min ReadRelated CoverageReporting by Lewis Krauskopf, Koh Gui Qing and Lawrence Delevingne; Additional reporting by Ira Iosebashvili and Megan Davies; Writing by Lauren Tara LaCapra; Editing by Alden Bentley, Grant McCool and Daniel WallisOur Standards: The Thomson Reuters Trust Principles.\n",
      "Paste the second url..https://www.nytimes.com/2020/07/24/business/joe-biden-stocks-taxes.html\n",
      "/usr/local/lib/python3.6/dist-packages/urllib3/connectionpool.py:847: InsecureRequestWarning: Unverified HTTPS request is being made. Adding certificate verification is strongly advised. See: https://urllib3.readthedocs.io/en/latest/advanced-usage.html#ssl-warnings\n",
      "  InsecureRequestWarning)\n",
      "\n",
      "\n",
      "\n",
      "\\t\t###### Printing the Web content ######\n",
      "\n",
      "Why a Biden Presidency Could Be Bullish for Stocks - The New York TimesDisabling auto-updates may improve reliability when using a screen reader or keyboard to navigate.Despite the stock market’s “knee-jerk” distaste for the prospect of a Democratic victory, stocks could prosper if Joe Biden wins, a new analysis says. The coronavirus and trade are two big factors.In one of the stock market’s brief downward slides during its long march upward this summer, worries about the prospects of a Biden presidency began to dominate the chatter, and for seemingly solid reasons.The logic was simple: Corporate taxes might rise, and that would hamper profits. But that’s perhaps too simple, as a deeper look at the issue indicates. Such an examination came this week in a  deeply contrarian July 20 BofA Global Research report to the firm’s investors.It said that once the market had gotten over its reflexive distaste for the notion of a Democratic victory, many people were likely to conclude that would not be a disaster for stocks or the economy. In some respects, the report said, a Biden win could be a boon for both.The report, “US Viewpoint: An election during a pandemic,” said that, given the current polling data, it was reasonable to assume as a “base case” not only that former Vice President Joseph R. Biden Jr. would win, but that there would also be a Democratic sweep of both houses of Congress.That, the report said, implies that a new administration could enact far-reaching policy changes. While some would drag down corporate profits and stock market returns, it said, others would provide a longer-term boost.“The knee-jerk reactions of the market are likely to be based on perceptions of a Republican regime as more business friendly and a Democratic regime as more negative for risk assets, but medium- to long-term ramifications of either scenario are less clear cut,” the report said. The authors of the report declined to comment for this column.They found that a Biden victory would have complex, mixed effects on the bond, stock and foreign exchange markets, as well as the underlying economy. But they concluded that the overall impact of a Democratic victory could be positive, and would most likely include a steadier and more vigorous handling of the coronavirus crisis and a more open approach to international trade.Those conclusions run counter to the narrative promoted by President Trump, who has frequently boasted that the stock market and the economy have flourished under his stewardship and has warned of serious trouble if he were to lose in November. That argument has gotten plenty of attention and, in some respects, seems plausible.First, during Mr. Trump’s presidency, taxes dropped sharply, including those on corporate profits, capital gains and the income of wealthy people. The Biden campaign has called for an increase in these taxes (along with a reduction in those for lower- and middle-income people). All things being equal, those changes could be expected to trim net profits for corporate America and net gains for individual investors, making the stock market less attractive.After all, the Trump corporate tax cut, to 21 percent from 35 percent, was a corporate windfall, accounting for nearly half the 23 percent growth in earnings per share for the S&P 500 in 2018, the analysts estimated. Mr. Biden has proposed raising the corporate tax rate to 28 percent, which, they estimated, “would be a mid-single digit hit” to earnings per share, the analysts said.And Mr. Trump has helped big business in other ways. His administration has stripped regulations on all manner of corporate activities. In moves bolstering fossil-fuel energy companies, for example, Mr. Trump has rolled back nearly 70 environmental regulations and is in the process of eliminating about 30 more, a tally by The New York Times shows.His administration has helped the financial service industry, too, loosening Obama-era rules that gave greater protections to people saving for retirement and investing for other purposes.Mr. Biden can be expected to take a very different approach on many issues. He recently proposed a $2 trillion plan to increase the use of clean energy over the next four years, and a $775 billion program covering care for small children, older adults and family members with disabilities.It is understandable that an abrupt change in course, such as the one suggested by Mr. Biden’s rise in the polls, might initially unsettle the markets.But there has been time for investors to digest the Democratic ascendancy in the polls. That intelligence has been absorbed by the market — and it has risen to new highs.For thoughtful investors, that makes sense, the authors of the report said, because the Biden policies may, on balance, have a positive economic impact. That would be expected to yield better stock returns.On taxes, for example, the cut in corporate rates has not been accompanied by an increase in research and development or economic growth. By contrast, Mr. Biden’s “emphasis on supporting the welfare of the middle class by offering greater access to education, job training and lower student debt should offer longer term benefits” that could translate eventually into stock market gains, the authors said.Furthermore, the pandemic remains the main impediment to economic growth now and, quite likely, will at the start of the next administration. Mr. Biden calls for a much stronger federal role in promoting and financing social distancing, contact tracing and quarantines.“Biden’s more aggressive stance on Covid-19 is likely to improve medium-to longer-term U.S. growth prospects potentially at the expense of shorter term prospects, if restrictive policies are pursued,” the report said.And the trade conflicts, tariffs, restrictions on immigration and diminution of global institutions of the Trump era would be supplanted by a more internationalist approach — and one likely to yield substantial benefits, the report projected.  In short, the authors said, a Democratic sweep of the presidency and both houses of Congress would be “growth positive.”This isn’t the first time the stock market has shuddered at the thought of a Democratic presidency; in fact, I’ve written this kind of story before, about Wall Street’s misguided apprehensions about the impact of the Obama presidency.But the historical record shows that since 1900 the stock market has fared far better under Democratic presidents, with a 6.7 percent annualized return for the Dow Jones industrial average compared with just 3.5 percent under Republicans. (The results are similar when measured from Election Day to Election Day.) Data provided by Bespoke Investment Group shows that these are the best annualized returns under individual presidents:“Wall Street generally considers Republicans to be better for market returns but historically, that’s not true,” said Paul Hickey, co-founder of Bespoke. “Democratic presidents have generally had better returns versus Republicans.”The market under Mr. Trump has been fine — despite a calamitous drop in late February and early March — with a 9.2 percent annualized return through Wednesday.But despite all the hoopla about Mr. Trump’s undoubtedly pro-business policies, the stock market performance under Mr. Trump doesn’t match up well against Mr. Clinton or Mr. Obama. It is entirely possible that the same would be true if Mr. Biden became president.\n",
      "\t\t######Printing the noise filtered out ######\n",
      "\n",
      "AdvertisementSupported byStrategiesBy Jeff Sommer25.5 percent under Calvin Coolidge, a Republican, in the 1920s.15.9 percent under Bill Clinton, a Democrat.12.1 percent under Barack Obama, a Democrat.Advertisement\n",
      "\n",
      "\n",
      "\n",
      "The percentage of similarity is  : 58.48970397753346\n",
      "\n",
      "\n",
      "\n",
      "Check another set of URLs ? y/n \n",
      "n\n"
     ]
    }
   ],
   "source": [
    "\n",
    "!python run.py"
   ]
  },
  {
   "cell_type": "code",
   "execution_count": null,
   "metadata": {
    "id": "g_U4mRcQsyb4"
   },
   "outputs": [],
   "source": []
  }
 ],
 "metadata": {
  "colab": {
   "collapsed_sections": [],
   "name": "Web_similarity.ipynb",
   "provenance": []
  },
  "kernelspec": {
   "display_name": "Python 3",
   "language": "python",
   "name": "python3"
  },
  "language_info": {
   "codemirror_mode": {
    "name": "ipython",
    "version": 3
   },
   "file_extension": ".py",
   "mimetype": "text/x-python",
   "name": "python",
   "nbconvert_exporter": "python",
   "pygments_lexer": "ipython3",
   "version": "3.7.3"
  }
 },
 "nbformat": 4,
 "nbformat_minor": 1
}
